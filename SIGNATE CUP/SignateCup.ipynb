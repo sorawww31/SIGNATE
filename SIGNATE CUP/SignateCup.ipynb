version https://git-lfs.github.com/spec/v1
oid sha256:58ea5e1959329bc95d41cfe7194c5a87afd96915d9e5bd96fa86ce6dc8f19614
size 10765
